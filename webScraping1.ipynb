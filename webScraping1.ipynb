{
 "cells": [
  {
   "cell_type": "code",
   "execution_count": 20,
   "metadata": {},
   "outputs": [],
 
   "source": [
    "from bs4 import BeautifulSoup as soup\n",
    "from urllib.request import urlopen as ureq\n",
    "import pandas as pd\n",
    "\n",
    "my_url= 'provide link here' #link of website to be scraped\n",
    "\n",
    "client = ureq(my_url)               #giving link to request \n",
    "page_html = client.read()           #read the page html\n",
    "client.close()\n",
    "\n",
    "page_soup = soup(page_html, \"html.parser\")  #parsing the html of page\n",
    "\n",
    "containers = page_soup.findAll(\"div\", {\"class\" :\"class_name\"})     #HTML tag that contain the needed information\n",
    "print(\"The number of components is \")\n",
    "print (len(containers))                #no. of components in the tag \n",
    "#print(soup.prettify(containers[0]))    #prettify the html and print the specified component\n",
    "\n",
    "n = int(input(\"what is the range\"))\n",
    "for i in range(n):\n",
    "    container = containers[i]\n",
    "    print(container.div.img[\"alt\"])      #print the attribute needed(name) of the component\n",
    "\n",
    "    price = container.findAll(\"div\", {\"class\":\"class_name\"})  #tag and class containing price\n",
    "    print(price[0].text)\n",
    "\n",
    "\n"
   ]
  },
  {
   "cell_type": "code",
   "execution_count": null,
   "metadata": {},
   "outputs": [],
   "source": []
  }
 ],
 "metadata": {
  "kernelspec": {
   "display_name": "Python 3",
   "language": "python",
   "name": "python3"
  },
  "language_info": {
   "codemirror_mode": {
    "name": "ipython",
    "version": 3
   },
   "file_extension": ".py",
   "mimetype": "text/x-python",
   "name": "python",
   "nbconvert_exporter": "python",
   "pygments_lexer": "ipython3",
   "version": "3.6.4"
  }
 },
 "nbformat": 4,
 "nbformat_minor": 2
}
