{
 "cells": [
  {
   "cell_type": "code",
   "execution_count": 20,
   "metadata": {},
   "outputs": [],
   "source": [
    "from tkinter import *\n",
    "top = Tk()\n",
    "l1=Label(top, text=\"No. of items\")\n",
    "l1.pack(side= TOP )\n",
    "w = Entry(top, justify=\"center\")\n",
    "w.pack(side = BOTTOM )\n",
    "\n",
    " \n",
    "\n",
    "top.mainloop()"
   ]
  },
  {
   "cell_type": "code",
   "execution_count": 21,
   "metadata": {},
   "outputs": [
    {
     "name": "stdout",
     "output_type": "stream",
     "text": [
      "The number of components is \n",
      "24\n",
      "what is the range5\n",
      "Redmi Note 5 Pro (Black, 64 GB)\n",
      "₹14,999\n",
      "Redmi Note 5 Pro (Blue, 64 GB)\n",
      "₹14,999\n",
      "Redmi Note 5 Pro (Gold, 64 GB)\n",
      "₹14,999\n",
      "Redmi 5A (Gold, 16 GB)\n",
      "₹5,999\n",
      "Redmi Y2 (Rose Gold, 64 GB)\n",
      "₹13,999\n"
     ]
    }
   ],
   "source": [
    "from bs4 import BeautifulSoup as soup\n",
    "from urllib.request import urlopen as ureq\n",
    "import pandas as pd\n",
    "\n",
    "my_url= 'https://www.flipkart.com/search?q=mi&otracker=search&otracker1=search&marketplace=FLIPKART&as-show=on&as=off' #link of website to be scraped\n",
    "\n",
    "client = ureq(my_url)               #giving link to request \n",
    "page_html = client.read()           #read the page html\n",
    "client.close()\n",
    "\n",
    "page_soup = soup(page_html, \"html.parser\")  #parsing the html of page\n",
    "\n",
    "containers = page_soup.findAll(\"div\", {\"class\" :\"_3O0U0u\"})     #HTML tag that contain the needed information\n",
    "print(\"The number of components is \")\n",
    "print (len(containers))                #no. of components in the tag \n",
    "#print(soup.prettify(containers[0]))    #prettify the html and print the specified component\n",
    "\n",
    "n = int(input(\"what is the range\"))\n",
    "for i in range(n):\n",
    "    container = containers[i]\n",
    "    print(container.div.img[\"alt\"])      #print the attribute needed(name) of the component\n",
    "\n",
    "    price = container.findAll(\"div\", {\"class\":\"_1vC4OE _2rQ-NK\"})  #tag and class containing price\n",
    "    print(price[0].text)\n",
    "#file= \"getdata.csv\"\n",
    "#f=open(file, \"w\")\n",
    "\n",
    "#headers=\"Product_name,Pricing \\n\"\n",
    "#f.write(headers)\n",
    "\n",
    "\n"
   ]
  },
  {
   "cell_type": "code",
   "execution_count": null,
   "metadata": {},
   "outputs": [],
   "source": []
  }
 ],
 "metadata": {
  "kernelspec": {
   "display_name": "Python 3",
   "language": "python",
   "name": "python3"
  },
  "language_info": {
   "codemirror_mode": {
    "name": "ipython",
    "version": 3
   },
   "file_extension": ".py",
   "mimetype": "text/x-python",
   "name": "python",
   "nbconvert_exporter": "python",
   "pygments_lexer": "ipython3",
   "version": "3.6.4"
  }
 },
 "nbformat": 4,
 "nbformat_minor": 2
}
